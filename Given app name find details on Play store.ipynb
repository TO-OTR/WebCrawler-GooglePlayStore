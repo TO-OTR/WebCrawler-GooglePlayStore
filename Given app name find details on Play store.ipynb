{
 "cells": [
  {
   "cell_type": "code",
   "execution_count": 301,
   "metadata": {},
   "outputs": [],
   "source": [
    "import requests        \n",
    "from bs4 import BeautifulSoup\n",
    "import xlwt\n",
    "import xlrd\n",
    "from xlutils.copy import copy\n",
    "import random\n",
    "from fake_useragent import UserAgent"
   ]
  },
  {
   "cell_type": "code",
   "execution_count": 302,
   "metadata": {},
   "outputs": [],
   "source": [
    "#Load all the app names which are needed to be searched\n",
    "def load_excel_appName(excel_name):\n",
    "    wb = xlrd.open_workbook(excel_name)\n",
    "    sh1 = wb.sheets()[0]\n",
    "    list_app_name = []\n",
    "    col_app_name = 2#nunber of row when row=2 app_name\n",
    "    col_app_pack = 3\n",
    "    col_app_download = 4\n",
    "    col_country = 11\n",
    "    nrows = sh1.nrows #number of col\n",
    "    for r in range(1,nrows):\n",
    "        list_app_name.append(sh1.cell(r,2).value)\n",
    "    return list_app_name\n",
    "\"\"\"\n",
    "    for r in range(1,nrows):\n",
    "        if (table.cell(r,col_country).value  == '法国'):\n",
    "            list_app_name.append(table.cell(r,2))\n",
    "    return list_app_name\n",
    "\"\"\"\n",
    "    \n",
    "# To fit the encode rule of URL, the app name must be change\n",
    "# 'I Love U' should be changed into 'I%20Love%20U'\n",
    "def create_appName(list_app_name):\n",
    "    url_dic_encode = {' ':'%20','\"':'%22','#':'%23', '\\'':'%27',\n",
    "                      '&':'%26','(':'%28',')':'%29', '+':'%2B', \n",
    "                      ',':'%2C','/':'%2F',':':'%3A', ';':'%3B', \n",
    "                      '<':'%3C','=':'%2D','>':'%3E', '?':'%3F', \n",
    "                      '@':'%40','\\\\':'%5C','|':'%7C',\n",
    "                      '-':'',\n",
    "                      '\\xa0':'%C2%A0',\n",
    "                      '%':'%25'\n",
    "                     }  \n",
    "    #!1 ' -keyword' means results without keyword but 'keyword-keyword'will be fine so change ' -' to ''\n",
    "    #!2 '\\xa0' looks like a space but it's not same in url encode, so change it into '%C2%A0'\n",
    "    #!3 '%':'%25' ==>  'A B' will change to 'A%20B' at first, then change to 'A%2520B' which makes url error!\n",
    "    #Delete '%':'%25' when use Method 2\n",
    "    \n",
    "    # Method 1 only need care about #!1 and #!2\n",
    "    length = len(list_app_name)\n",
    "    for i in range(length):\n",
    "        list_app_name[i]=list(list_app_name[i]) #turn each app name string into list avoid #!3\n",
    "        for j in range(len(list_app_name[i])):\n",
    "            if list_app_name[i][j] in url_dic_encode.keys():\n",
    "            #for i, j in url_dic_encode.items():\n",
    "                list_app_name[i][j] = url_dic_encode[list_app_name[i][j]]\n",
    "        list_app_name[i]=''.join(list_app_name[i])\n",
    "    print('complete encode app name into url format')\n",
    "    return list_app_name\n",
    "   \n",
    "\"\"\" \n",
    "    # Method 2 need to care about #!1#!2#!3\n",
    "    length = len(list_app_name)\n",
    "    for n in range(length):\n",
    "        for i, j in url_dic_encode.items():    # i means key dic, j is the key in dic \n",
    "            list_app_name[n] = list_app_name[n].replace(i,j)\n",
    "            print(i,j,list_app_name[n])\n",
    "    print('complete encode app name into url format')\n",
    "    return list_app_name\n",
    "\"\"\"\n",
    "\n",
    "\n",
    "def write_excel(detail,i,excel_name):\n",
    "    i+=1\n",
    "    rb = xlrd.open_workbook(excel_name)\n",
    "    r_sh = rb.sheet_by_name('app')\n",
    "    wb = copy(rb)\n",
    "    sh1 = wb.get_sheet(0)\n",
    "    if (r_sh.cell(i,3).value == ''):\n",
    "        sh1.write(i,3,detail[0])#col_app_pack\n",
    "        sh1.write(i,4,detail[1])#col_app_download\n",
    "    wb.save(excel_name)"
   ]
  },
  {
   "cell_type": "code",
   "execution_count": 303,
   "metadata": {},
   "outputs": [],
   "source": [
    "# Avoid detection of googles, fake web crawler header and user agent\n",
    "def fack_headers():\n",
    "    ua=UserAgent()\n",
    "    headers={\n",
    "        'User-Agent':ua.random}\n",
    "    return headers"
   ]
  },
  {
   "cell_type": "code",
   "execution_count": 304,
   "metadata": {},
   "outputs": [],
   "source": [
    "def form_url(re_list_app_name):\n",
    "    for i in range(len(re_list_app_name)):\n",
    "        re_list_app_name[i] = 'https://play.google.com/store/search?q='+re_list_app_name[i]+'&c=apps'\n",
    "    print('complete form catalog url')\n",
    "    return re_list_app_name\n",
    "\n",
    "def get_detail_page_url(list_app_url,headers):\n",
    "    list_app_url_all = []\n",
    "    for i in range(len(list_app_url)):\n",
    "        strhtml = requests.get(url = list_app_url[i],headers = headers)#fack header and avoid website redirects\n",
    "        soup = BeautifulSoup(strhtml.text,'lxml')\n",
    "        data = soup.select('#fcxH9b>div.WpDbMd>c-wiz>div>div.N4FjMb>div>c-wiz>c-wiz>c-wiz>div>div.ZmHEEd>div>c-wiz>div>div>div.RZEgze>div>div>div.bQVA0c>div>div>div.b8cIId.ReQCgd.Q9MA7b>a')\n",
    "        # Establish the urls of every app' detail page\n",
    "        s='http://play.google.com'\n",
    "        \n",
    "        res = s+data[0].get('href') # To form the url for the detail page\n",
    "        list_app_url_all.append(res)\n",
    "    print('complete get detail page url')\n",
    "    return list_app_url_all\n",
    "\n",
    "\n",
    "# Use the urls to visit every app's detail page to get info\n",
    "def get_detail(app_detail_url,headers):   \n",
    "    url = app_detail_url\n",
    "    strhtml = requests.get(url = url,headers = headers)#fack header and avoid website redirects\n",
    "    soup = BeautifulSoup(strhtml.text,'html.parser')\n",
    "    detail = []\n",
    "    #package \n",
    "    detail.append(url[45:]) # http://play.google.com/store/apps/details?id=\n",
    "    #Ndownload\n",
    "    detail.append(soup.find_all('span',class_ = 'htlgb')[4].text) #too many class htlgb  ctrl+f search for span.htlgb and find it's 4th\n",
    "    return detail"
   ]
  },
  {
   "cell_type": "code",
   "execution_count": 305,
   "metadata": {},
   "outputs": [],
   "source": [
    "def main():\n",
    "    excel_name='third party app compatibility test case --FR--DE.xls'\n",
    "    list_app_name = load_excel_appName(excel_name)\n",
    "    re_list_app_name = create_appName(list_app_name)\n",
    "    list_app_url=form_url(re_list_app_name)\n",
    "    list_app_url_all = get_detail_page_url(list_app_url, fack_headers())\n",
    "    detail=[]\n",
    "    for i in range(len(list_app_url_all)):\n",
    "        app_detail_url = list_app_url_all[i]\n",
    "        detail = get_detail(app_detail_url, fack_headers())\n",
    "        write_excel(detail,i,excel_name)\n",
    "        if (i%25 == 0):print('----  Writing',i,'th record  ----')\n",
    "    print('Mission accomplished')\n",
    "    return 0"
   ]
  },
  {
   "cell_type": "code",
   "execution_count": 306,
   "metadata": {
    "scrolled": true
   },
   "outputs": [
    {
     "name": "stdout",
     "output_type": "stream",
     "text": [
      "complete encode app name into url format\n",
      "complete form catalog url\n",
      "complete get detail page url\n",
      "---------Writing 0 th record-----------\n",
      "---------Writing 10 th record-----------\n",
      "---------Writing 20 th record-----------\n",
      "---------Writing 30 th record-----------\n",
      "---------Writing 40 th record-----------\n",
      "---------Writing 50 th record-----------\n",
      "---------Writing 60 th record-----------\n",
      "---------Writing 70 th record-----------\n",
      "---------Writing 80 th record-----------\n",
      "---------Writing 90 th record-----------\n",
      "---------Writing 100 th record-----------\n",
      "---------Writing 110 th record-----------\n",
      "---------Writing 120 th record-----------\n",
      "---------Writing 130 th record-----------\n",
      "---------Writing 140 th record-----------\n",
      "---------Writing 150 th record-----------\n",
      "---------Writing 160 th record-----------\n",
      "---------Writing 170 th record-----------\n",
      "Mission accomplished\n"
     ]
    },
    {
     "data": {
      "text/plain": [
       "0"
      ]
     },
     "execution_count": 306,
     "metadata": {},
     "output_type": "execute_result"
    }
   ],
   "source": [
    "main()"
   ]
  },
  {
   "cell_type": "code",
   "execution_count": null,
   "metadata": {},
   "outputs": [],
   "source": []
  }
 ],
 "metadata": {
  "kernelspec": {
   "display_name": "Python 3",
   "language": "python",
   "name": "python3"
  },
  "language_info": {
   "codemirror_mode": {
    "name": "ipython",
    "version": 3
   },
   "file_extension": ".py",
   "mimetype": "text/x-python",
   "name": "python",
   "nbconvert_exporter": "python",
   "pygments_lexer": "ipython3",
   "version": "3.7.3"
  }
 },
 "nbformat": 4,
 "nbformat_minor": 2
}
